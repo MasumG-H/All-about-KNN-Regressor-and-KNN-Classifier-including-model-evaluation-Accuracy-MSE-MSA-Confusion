{
 "cells": [
  {
   "cell_type": "markdown",
   "id": "0a583ccd",
   "metadata": {},
   "source": [
    "# Assignment of K-Nearest Neighbor(KNN) Algorithm"
   ]
  },
  {
   "cell_type": "markdown",
   "id": "41297378",
   "metadata": {},
   "source": [
    "# KNN Regressor"
   ]
  },
  {
   "cell_type": "code",
   "execution_count": 1,
   "id": "84237110",
   "metadata": {},
   "outputs": [],
   "source": [
    "# importing pandas as pd\n",
    "# Importing numpy as np\n",
    "# Importing pyplot as plt from matplotlib\n",
    "import pandas as pd\n",
    "import numpy as np\n",
    "from matplotlib import pyplot as plt"
   ]
  },
  {
   "cell_type": "markdown",
   "id": "1b1aa7cb",
   "metadata": {},
   "source": [
    "# Import data set"
   ]
  },
  {
   "cell_type": "code",
   "execution_count": 2,
   "id": "847b9d40",
   "metadata": {},
   "outputs": [],
   "source": [
    "# importing data using .read_excel() function\n",
    "df = pd.read_excel('C:\\\\Masum\\\\Data Science\\\\Python\\\\Class 09\\\\weight-height.xlsx')"
   ]
  },
  {
   "cell_type": "code",
   "execution_count": 3,
   "id": "a3d8dc8b",
   "metadata": {},
   "outputs": [
    {
     "data": {
      "text/html": [
       "<div>\n",
       "<style scoped>\n",
       "    .dataframe tbody tr th:only-of-type {\n",
       "        vertical-align: middle;\n",
       "    }\n",
       "\n",
       "    .dataframe tbody tr th {\n",
       "        vertical-align: top;\n",
       "    }\n",
       "\n",
       "    .dataframe thead th {\n",
       "        text-align: right;\n",
       "    }\n",
       "</style>\n",
       "<table border=\"1\" class=\"dataframe\">\n",
       "  <thead>\n",
       "    <tr style=\"text-align: right;\">\n",
       "      <th></th>\n",
       "      <th>Gender</th>\n",
       "      <th>Height</th>\n",
       "      <th>Weight</th>\n",
       "    </tr>\n",
       "  </thead>\n",
       "  <tbody>\n",
       "    <tr>\n",
       "      <th>0</th>\n",
       "      <td>Male</td>\n",
       "      <td>73.847017</td>\n",
       "      <td>241.893563</td>\n",
       "    </tr>\n",
       "    <tr>\n",
       "      <th>1</th>\n",
       "      <td>Male</td>\n",
       "      <td>68.781904</td>\n",
       "      <td>162.310473</td>\n",
       "    </tr>\n",
       "    <tr>\n",
       "      <th>2</th>\n",
       "      <td>Male</td>\n",
       "      <td>74.110105</td>\n",
       "      <td>212.740856</td>\n",
       "    </tr>\n",
       "    <tr>\n",
       "      <th>3</th>\n",
       "      <td>Male</td>\n",
       "      <td>71.730978</td>\n",
       "      <td>220.042470</td>\n",
       "    </tr>\n",
       "    <tr>\n",
       "      <th>4</th>\n",
       "      <td>Male</td>\n",
       "      <td>69.881796</td>\n",
       "      <td>206.349801</td>\n",
       "    </tr>\n",
       "  </tbody>\n",
       "</table>\n",
       "</div>"
      ],
      "text/plain": [
       "  Gender     Height      Weight\n",
       "0   Male  73.847017  241.893563\n",
       "1   Male  68.781904  162.310473\n",
       "2   Male  74.110105  212.740856\n",
       "3   Male  71.730978  220.042470\n",
       "4   Male  69.881796  206.349801"
      ]
     },
     "execution_count": 3,
     "metadata": {},
     "output_type": "execute_result"
    }
   ],
   "source": [
    "#printing Datafram\n",
    "df.head()"
   ]
  },
  {
   "cell_type": "markdown",
   "id": "81dc6db8",
   "metadata": {},
   "source": [
    "# Converting Categorical Data Columns to Numerical."
   ]
  },
  {
   "cell_type": "code",
   "execution_count": 4,
   "id": "448d3190",
   "metadata": {},
   "outputs": [],
   "source": [
    "# Importing LabelEncoder from Sklearn\n",
    "# library from preprocessing Module.\n",
    "from sklearn.preprocessing import LabelEncoder"
   ]
  },
  {
   "cell_type": "code",
   "execution_count": 5,
   "id": "0f9ebc5a",
   "metadata": {},
   "outputs": [],
   "source": [
    "#Creating a instance of label Encoder.\n",
    "le = LabelEncoder()"
   ]
  },
  {
   "cell_type": "code",
   "execution_count": 6,
   "id": "4bf94dc4",
   "metadata": {},
   "outputs": [],
   "source": [
    "#Using .fit_transform function to fit label\n",
    "# encoder and return encoded label\n",
    "label = le.fit_transform(df['Gender'])"
   ]
  },
  {
   "cell_type": "code",
   "execution_count": 7,
   "id": "400a5dbb",
   "metadata": {},
   "outputs": [
    {
     "data": {
      "text/plain": [
       "array([1, 1, 1, ..., 0, 0, 0])"
      ]
     },
     "execution_count": 7,
     "metadata": {},
     "output_type": "execute_result"
    }
   ],
   "source": [
    "#printing label\n",
    "label"
   ]
  },
  {
   "cell_type": "code",
   "execution_count": 8,
   "id": "14f7e443",
   "metadata": {},
   "outputs": [],
   "source": [
    "# removing the column 'Gender' from df\n",
    "# as it is of no use now.\n",
    "df.drop(\"Gender\", axis=1, inplace=True)"
   ]
  },
  {
   "cell_type": "code",
   "execution_count": 9,
   "id": "169f4581",
   "metadata": {},
   "outputs": [],
   "source": [
    "# Appending the array to our dataFrame\n",
    "# with column name 'Gender'\n",
    "df['Gender'] = label"
   ]
  },
  {
   "cell_type": "code",
   "execution_count": 10,
   "id": "61f24882",
   "metadata": {},
   "outputs": [
    {
     "data": {
      "text/html": [
       "<div>\n",
       "<style scoped>\n",
       "    .dataframe tbody tr th:only-of-type {\n",
       "        vertical-align: middle;\n",
       "    }\n",
       "\n",
       "    .dataframe tbody tr th {\n",
       "        vertical-align: top;\n",
       "    }\n",
       "\n",
       "    .dataframe thead th {\n",
       "        text-align: right;\n",
       "    }\n",
       "</style>\n",
       "<table border=\"1\" class=\"dataframe\">\n",
       "  <thead>\n",
       "    <tr style=\"text-align: right;\">\n",
       "      <th></th>\n",
       "      <th>Height</th>\n",
       "      <th>Weight</th>\n",
       "      <th>Gender</th>\n",
       "    </tr>\n",
       "  </thead>\n",
       "  <tbody>\n",
       "    <tr>\n",
       "      <th>0</th>\n",
       "      <td>73.847017</td>\n",
       "      <td>241.893563</td>\n",
       "      <td>1</td>\n",
       "    </tr>\n",
       "    <tr>\n",
       "      <th>1</th>\n",
       "      <td>68.781904</td>\n",
       "      <td>162.310473</td>\n",
       "      <td>1</td>\n",
       "    </tr>\n",
       "    <tr>\n",
       "      <th>2</th>\n",
       "      <td>74.110105</td>\n",
       "      <td>212.740856</td>\n",
       "      <td>1</td>\n",
       "    </tr>\n",
       "    <tr>\n",
       "      <th>3</th>\n",
       "      <td>71.730978</td>\n",
       "      <td>220.042470</td>\n",
       "      <td>1</td>\n",
       "    </tr>\n",
       "    <tr>\n",
       "      <th>4</th>\n",
       "      <td>69.881796</td>\n",
       "      <td>206.349801</td>\n",
       "      <td>1</td>\n",
       "    </tr>\n",
       "  </tbody>\n",
       "</table>\n",
       "</div>"
      ],
      "text/plain": [
       "      Height      Weight  Gender\n",
       "0  73.847017  241.893563       1\n",
       "1  68.781904  162.310473       1\n",
       "2  74.110105  212.740856       1\n",
       "3  71.730978  220.042470       1\n",
       "4  69.881796  206.349801       1"
      ]
     },
     "execution_count": 10,
     "metadata": {},
     "output_type": "execute_result"
    }
   ],
   "source": [
    "# printing Dataframe\n",
    "df.head()"
   ]
  },
  {
   "cell_type": "code",
   "execution_count": 11,
   "id": "56fb98ed",
   "metadata": {},
   "outputs": [],
   "source": [
    "#Creating copy of Datafram\n",
    "df1 = df.copy()\n",
    "df2 = df.copy()"
   ]
  },
  {
   "cell_type": "markdown",
   "id": "09bc390f",
   "metadata": {},
   "source": [
    "# Seperate x(Gender, Height) and y (y=Weight)"
   ]
  },
  {
   "cell_type": "code",
   "execution_count": 12,
   "id": "1a2fa360",
   "metadata": {},
   "outputs": [],
   "source": [
    "#Separate Target Variable and Predictor Variables\n",
    "x = df1[['Gender','Height']]\n",
    "y = df1['Weight']"
   ]
  },
  {
   "cell_type": "code",
   "execution_count": 13,
   "id": "b5359696",
   "metadata": {},
   "outputs": [
    {
     "data": {
      "text/html": [
       "<div>\n",
       "<style scoped>\n",
       "    .dataframe tbody tr th:only-of-type {\n",
       "        vertical-align: middle;\n",
       "    }\n",
       "\n",
       "    .dataframe tbody tr th {\n",
       "        vertical-align: top;\n",
       "    }\n",
       "\n",
       "    .dataframe thead th {\n",
       "        text-align: right;\n",
       "    }\n",
       "</style>\n",
       "<table border=\"1\" class=\"dataframe\">\n",
       "  <thead>\n",
       "    <tr style=\"text-align: right;\">\n",
       "      <th></th>\n",
       "      <th>Gender</th>\n",
       "      <th>Height</th>\n",
       "    </tr>\n",
       "  </thead>\n",
       "  <tbody>\n",
       "    <tr>\n",
       "      <th>0</th>\n",
       "      <td>1</td>\n",
       "      <td>73.847017</td>\n",
       "    </tr>\n",
       "    <tr>\n",
       "      <th>1</th>\n",
       "      <td>1</td>\n",
       "      <td>68.781904</td>\n",
       "    </tr>\n",
       "    <tr>\n",
       "      <th>2</th>\n",
       "      <td>1</td>\n",
       "      <td>74.110105</td>\n",
       "    </tr>\n",
       "    <tr>\n",
       "      <th>3</th>\n",
       "      <td>1</td>\n",
       "      <td>71.730978</td>\n",
       "    </tr>\n",
       "    <tr>\n",
       "      <th>4</th>\n",
       "      <td>1</td>\n",
       "      <td>69.881796</td>\n",
       "    </tr>\n",
       "  </tbody>\n",
       "</table>\n",
       "</div>"
      ],
      "text/plain": [
       "   Gender     Height\n",
       "0       1  73.847017\n",
       "1       1  68.781904\n",
       "2       1  74.110105\n",
       "3       1  71.730978\n",
       "4       1  69.881796"
      ]
     },
     "execution_count": 13,
     "metadata": {},
     "output_type": "execute_result"
    }
   ],
   "source": [
    "#Printing value of x\n",
    "x.head()"
   ]
  },
  {
   "cell_type": "code",
   "execution_count": 14,
   "id": "225e42f3",
   "metadata": {},
   "outputs": [
    {
     "data": {
      "text/plain": [
       "0    241.893563\n",
       "1    162.310473\n",
       "2    212.740856\n",
       "3    220.042470\n",
       "4    206.349801\n",
       "Name: Weight, dtype: float64"
      ]
     },
     "execution_count": 14,
     "metadata": {},
     "output_type": "execute_result"
    }
   ],
   "source": [
    "#Printing value of y\n",
    "y.head()"
   ]
  },
  {
   "cell_type": "markdown",
   "id": "73bafec5",
   "metadata": {},
   "source": [
    "# Train = 70%, Test = 30%"
   ]
  },
  {
   "cell_type": "code",
   "execution_count": 15,
   "id": "3b2d4933",
   "metadata": {},
   "outputs": [],
   "source": [
    "#importing train_test_split from sklearn\n",
    "#library from Module_selection.\n",
    "from sklearn.model_selection import train_test_split"
   ]
  },
  {
   "cell_type": "code",
   "execution_count": 16,
   "id": "fcd6d90c",
   "metadata": {},
   "outputs": [],
   "source": [
    "#train 70% data and test 30%\n",
    "xtrain,xtest, ytrain,ytest = train_test_split(x,y, test_size=.30)"
   ]
  },
  {
   "cell_type": "markdown",
   "id": "2ae1573b",
   "metadata": {},
   "source": [
    "# Apply Linear Regression"
   ]
  },
  {
   "cell_type": "markdown",
   "id": "106720bd",
   "metadata": {},
   "source": [
    "# Model Creation"
   ]
  },
  {
   "cell_type": "code",
   "execution_count": 17,
   "id": "0cdf6d8d",
   "metadata": {},
   "outputs": [],
   "source": [
    "# Importing  LinearRegression from Sklearn\n",
    "# library from linear Module.\n",
    "from sklearn.linear_model import LinearRegression"
   ]
  },
  {
   "cell_type": "code",
   "execution_count": 18,
   "id": "e2caa627",
   "metadata": {},
   "outputs": [],
   "source": [
    "#Creating a instance of LinearRegression.\n",
    "reg = LinearRegression()"
   ]
  },
  {
   "cell_type": "code",
   "execution_count": 19,
   "id": "83c8a67a",
   "metadata": {},
   "outputs": [
    {
     "data": {
      "text/plain": [
       "LinearRegression()"
      ]
     },
     "execution_count": 19,
     "metadata": {},
     "output_type": "execute_result"
    }
   ],
   "source": [
    "#Using .fit function to fit data\n",
    "reg.fit(xtrain,ytrain)"
   ]
  },
  {
   "cell_type": "code",
   "execution_count": 20,
   "id": "ed48a355",
   "metadata": {},
   "outputs": [
    {
     "data": {
      "text/plain": [
       "array([19.90802668,  5.89913261])"
      ]
     },
     "execution_count": 20,
     "metadata": {},
     "output_type": "execute_result"
    }
   ],
   "source": [
    "#Find cooefficient\n",
    "reg.coef_"
   ]
  },
  {
   "cell_type": "code",
   "execution_count": 21,
   "id": "53353415",
   "metadata": {},
   "outputs": [
    {
     "data": {
      "text/plain": [
       "-240.0940007582209"
      ]
     },
     "execution_count": 21,
     "metadata": {},
     "output_type": "execute_result"
    }
   ],
   "source": [
    "#Find intercept \n",
    "reg.intercept_"
   ]
  },
  {
   "cell_type": "code",
   "execution_count": 22,
   "id": "47704867",
   "metadata": {},
   "outputs": [],
   "source": [
    "#predict for y (gender) for the value of x(Height and weight)\n",
    "df1['predicted results'] = reg.predict(x)"
   ]
  },
  {
   "cell_type": "code",
   "execution_count": 23,
   "id": "af3864e5",
   "metadata": {},
   "outputs": [
    {
     "data": {
      "text/html": [
       "<div>\n",
       "<style scoped>\n",
       "    .dataframe tbody tr th:only-of-type {\n",
       "        vertical-align: middle;\n",
       "    }\n",
       "\n",
       "    .dataframe tbody tr th {\n",
       "        vertical-align: top;\n",
       "    }\n",
       "\n",
       "    .dataframe thead th {\n",
       "        text-align: right;\n",
       "    }\n",
       "</style>\n",
       "<table border=\"1\" class=\"dataframe\">\n",
       "  <thead>\n",
       "    <tr style=\"text-align: right;\">\n",
       "      <th></th>\n",
       "      <th>Height</th>\n",
       "      <th>Weight</th>\n",
       "      <th>Gender</th>\n",
       "      <th>predicted results</th>\n",
       "    </tr>\n",
       "  </thead>\n",
       "  <tbody>\n",
       "    <tr>\n",
       "      <th>0</th>\n",
       "      <td>73.847017</td>\n",
       "      <td>241.893563</td>\n",
       "      <td>1</td>\n",
       "      <td>215.447372</td>\n",
       "    </tr>\n",
       "    <tr>\n",
       "      <th>1</th>\n",
       "      <td>68.781904</td>\n",
       "      <td>162.310473</td>\n",
       "      <td>1</td>\n",
       "      <td>185.567599</td>\n",
       "    </tr>\n",
       "    <tr>\n",
       "      <th>2</th>\n",
       "      <td>74.110105</td>\n",
       "      <td>212.740856</td>\n",
       "      <td>1</td>\n",
       "      <td>216.999365</td>\n",
       "    </tr>\n",
       "    <tr>\n",
       "      <th>3</th>\n",
       "      <td>71.730978</td>\n",
       "      <td>220.042470</td>\n",
       "      <td>1</td>\n",
       "      <td>202.964580</td>\n",
       "    </tr>\n",
       "    <tr>\n",
       "      <th>4</th>\n",
       "      <td>69.881796</td>\n",
       "      <td>206.349801</td>\n",
       "      <td>1</td>\n",
       "      <td>192.056007</td>\n",
       "    </tr>\n",
       "    <tr>\n",
       "      <th>...</th>\n",
       "      <td>...</td>\n",
       "      <td>...</td>\n",
       "      <td>...</td>\n",
       "      <td>...</td>\n",
       "    </tr>\n",
       "    <tr>\n",
       "      <th>8550</th>\n",
       "      <td>60.483946</td>\n",
       "      <td>110.565497</td>\n",
       "      <td>0</td>\n",
       "      <td>116.708815</td>\n",
       "    </tr>\n",
       "    <tr>\n",
       "      <th>8551</th>\n",
       "      <td>63.423372</td>\n",
       "      <td>129.921671</td>\n",
       "      <td>0</td>\n",
       "      <td>134.048878</td>\n",
       "    </tr>\n",
       "    <tr>\n",
       "      <th>8552</th>\n",
       "      <td>65.584057</td>\n",
       "      <td>155.942671</td>\n",
       "      <td>0</td>\n",
       "      <td>146.795047</td>\n",
       "    </tr>\n",
       "    <tr>\n",
       "      <th>8553</th>\n",
       "      <td>67.429971</td>\n",
       "      <td>151.678405</td>\n",
       "      <td>0</td>\n",
       "      <td>157.684342</td>\n",
       "    </tr>\n",
       "    <tr>\n",
       "      <th>8554</th>\n",
       "      <td>60.921791</td>\n",
       "      <td>131.253738</td>\n",
       "      <td>0</td>\n",
       "      <td>119.291722</td>\n",
       "    </tr>\n",
       "  </tbody>\n",
       "</table>\n",
       "<p>8555 rows × 4 columns</p>\n",
       "</div>"
      ],
      "text/plain": [
       "         Height      Weight  Gender  predicted results\n",
       "0     73.847017  241.893563       1         215.447372\n",
       "1     68.781904  162.310473       1         185.567599\n",
       "2     74.110105  212.740856       1         216.999365\n",
       "3     71.730978  220.042470       1         202.964580\n",
       "4     69.881796  206.349801       1         192.056007\n",
       "...         ...         ...     ...                ...\n",
       "8550  60.483946  110.565497       0         116.708815\n",
       "8551  63.423372  129.921671       0         134.048878\n",
       "8552  65.584057  155.942671       0         146.795047\n",
       "8553  67.429971  151.678405       0         157.684342\n",
       "8554  60.921791  131.253738       0         119.291722\n",
       "\n",
       "[8555 rows x 4 columns]"
      ]
     },
     "execution_count": 23,
     "metadata": {},
     "output_type": "execute_result"
    }
   ],
   "source": [
    "#print Dataframe\n",
    "df1"
   ]
  },
  {
   "cell_type": "code",
   "execution_count": 24,
   "id": "edc30aaf",
   "metadata": {},
   "outputs": [],
   "source": [
    "#Creating a instance of Prediction.\n",
    "pred = reg.predict(xtest)"
   ]
  },
  {
   "cell_type": "code",
   "execution_count": 25,
   "id": "51930e09",
   "metadata": {},
   "outputs": [
    {
     "data": {
      "text/plain": [
       "array([200.30102322, 203.92474122, 200.05808591, ..., 153.81348333,\n",
       "       160.47038968, 201.10155551])"
      ]
     },
     "execution_count": 25,
     "metadata": {},
     "output_type": "execute_result"
    }
   ],
   "source": [
    "# corr. result of ytest / y\n",
    "pred "
   ]
  },
  {
   "cell_type": "code",
   "execution_count": 26,
   "id": "934b3afd",
   "metadata": {},
   "outputs": [],
   "source": [
    "#check the accuracy of a linear regression model\n",
    "score = reg.score(xtrain,ytrain)"
   ]
  },
  {
   "cell_type": "code",
   "execution_count": 27,
   "id": "69f77cac",
   "metadata": {},
   "outputs": [
    {
     "data": {
      "text/plain": [
       "0.9001112219760747"
      ]
     },
     "execution_count": 27,
     "metadata": {},
     "output_type": "execute_result"
    }
   ],
   "source": [
    "#Fine the accuracy of the model\n",
    "score"
   ]
  },
  {
   "cell_type": "code",
   "execution_count": 28,
   "id": "c2c73d82",
   "metadata": {},
   "outputs": [],
   "source": [
    "# Importing  mean_squared_error from Sklearn\n",
    "# library from metrics.\n",
    "from sklearn.metrics import mean_squared_error"
   ]
  },
  {
   "cell_type": "code",
   "execution_count": 29,
   "id": "a7507fc6",
   "metadata": {},
   "outputs": [],
   "source": [
    "#Creating a instance of mean_squared_error.\n",
    "mse = mean_squared_error(ytest, pred)"
   ]
  },
  {
   "cell_type": "code",
   "execution_count": 30,
   "id": "6ef7da2f",
   "metadata": {},
   "outputs": [
    {
     "data": {
      "text/plain": [
       "104.89491360088114"
      ]
     },
     "execution_count": 30,
     "metadata": {},
     "output_type": "execute_result"
    }
   ],
   "source": [
    "#print mean_squared_error value\n",
    "mse"
   ]
  },
  {
   "cell_type": "code",
   "execution_count": 31,
   "id": "31b2ee5b",
   "metadata": {},
   "outputs": [],
   "source": [
    "# Importing  mean_absolute_error from Sklearn\n",
    "# library from metrics.\n",
    "from sklearn.metrics import mean_absolute_error"
   ]
  },
  {
   "cell_type": "code",
   "execution_count": 32,
   "id": "59e200f3",
   "metadata": {},
   "outputs": [],
   "source": [
    "#Creating a instance of mean_absolute_error.\n",
    "mae = mean_absolute_error(ytest, pred)"
   ]
  },
  {
   "cell_type": "code",
   "execution_count": 33,
   "id": "5f26366a",
   "metadata": {},
   "outputs": [
    {
     "data": {
      "text/plain": [
       "8.080894777919147"
      ]
     },
     "execution_count": 33,
     "metadata": {},
     "output_type": "execute_result"
    }
   ],
   "source": [
    "#print mean_absolute_error value\n",
    "mae"
   ]
  },
  {
   "cell_type": "markdown",
   "id": "f8f47185",
   "metadata": {},
   "source": [
    "# Apply KNN Regressor: "
   ]
  },
  {
   "cell_type": "code",
   "execution_count": 34,
   "id": "c0d2e1fe",
   "metadata": {},
   "outputs": [],
   "source": [
    "#K-Nearest Neighbour(KNN) Regression\n",
    "from sklearn.neighbors import KNeighborsRegressor"
   ]
  },
  {
   "cell_type": "code",
   "execution_count": 35,
   "id": "f4ddf10f",
   "metadata": {},
   "outputs": [],
   "source": [
    "#Creating a instance of label KNeighborsRegressor\n",
    "RegModel = KNeighborsRegressor(n_neighbors=2)"
   ]
  },
  {
   "cell_type": "code",
   "execution_count": 36,
   "id": "7e0cf4af",
   "metadata": {
    "scrolled": true
   },
   "outputs": [
    {
     "data": {
      "text/plain": [
       "KNeighborsRegressor(n_neighbors=2)"
      ]
     },
     "execution_count": 36,
     "metadata": {},
     "output_type": "execute_result"
    }
   ],
   "source": [
    "RegModel"
   ]
  },
  {
   "cell_type": "code",
   "execution_count": 37,
   "id": "74084214",
   "metadata": {},
   "outputs": [],
   "source": [
    "#Creating the model on Training Data\n",
    "KNN=RegModel.fit(xtrain,ytrain)\n",
    "prediction=KNN.predict(xtest)"
   ]
  },
  {
   "cell_type": "code",
   "execution_count": 38,
   "id": "902e7a91",
   "metadata": {},
   "outputs": [
    {
     "name": "stdout",
     "output_type": "stream",
     "text": [
      "R2 Value: 0.9495825142323889\n"
     ]
    }
   ],
   "source": [
    "#Measuring Goodness of fit in Training data\n",
    "from sklearn import metrics\n",
    "print('R2 Value:',metrics.r2_score(ytrain, KNN.predict(xtrain)))"
   ]
  },
  {
   "cell_type": "code",
   "execution_count": 39,
   "id": "bed2bcfa",
   "metadata": {},
   "outputs": [
    {
     "name": "stdout",
     "output_type": "stream",
     "text": [
      "Accuracy 93.51341464590143\n"
     ]
    }
   ],
   "source": [
    "#Measuring accuracy on Testing Data\n",
    "print('Accuracy',100- (np.mean(np.abs((ytest - prediction) / ytest)) * 100))"
   ]
  },
  {
   "cell_type": "markdown",
   "id": "523381b8",
   "metadata": {},
   "source": [
    "# Evaluate the prediction error on the training data"
   ]
  },
  {
   "cell_type": "code",
   "execution_count": 40,
   "id": "5091aaf6",
   "metadata": {},
   "outputs": [],
   "source": [
    "# Importing  mean_squared_error from Sklearn\n",
    "# library from metrics.\n",
    "from sklearn.metrics import mean_squared_error\n",
    "from sklearn.metrics import mean_absolute_error "
   ]
  },
  {
   "cell_type": "code",
   "execution_count": 41,
   "id": "83b2f271",
   "metadata": {},
   "outputs": [],
   "source": [
    "#import sqrt from math\n",
    "from math import sqrt"
   ]
  },
  {
   "cell_type": "code",
   "execution_count": 42,
   "id": "977ae1f3",
   "metadata": {},
   "outputs": [],
   "source": [
    "#Creating a instance of Prediction.\n",
    "test_preds = RegModel.predict(xtest)"
   ]
  },
  {
   "cell_type": "code",
   "execution_count": 43,
   "id": "3138ed48",
   "metadata": {},
   "outputs": [],
   "source": [
    "#Creating a instance of mean_squared_error.\n",
    "mse = mean_squared_error(ytest, test_preds)"
   ]
  },
  {
   "cell_type": "code",
   "execution_count": 44,
   "id": "65d6b249",
   "metadata": {},
   "outputs": [
    {
     "data": {
      "text/plain": [
       "163.3055802844848"
      ]
     },
     "execution_count": 44,
     "metadata": {},
     "output_type": "execute_result"
    }
   ],
   "source": [
    "#print mean_squared_error value\n",
    "mse"
   ]
  },
  {
   "cell_type": "code",
   "execution_count": 45,
   "id": "df65e9fd",
   "metadata": {},
   "outputs": [],
   "source": [
    "#Creating a instance of mean_absolute_error .\n",
    "msa = mean_absolute_error (ytest, test_preds)"
   ]
  },
  {
   "cell_type": "code",
   "execution_count": 46,
   "id": "7653aa72",
   "metadata": {},
   "outputs": [
    {
     "data": {
      "text/plain": [
       "10.138707144881185"
      ]
     },
     "execution_count": 46,
     "metadata": {},
     "output_type": "execute_result"
    }
   ],
   "source": [
    "#print mean_absolute_error value\n",
    "msa"
   ]
  },
  {
   "cell_type": "markdown",
   "id": "05d44a17",
   "metadata": {},
   "source": [
    "# KNN Classifier"
   ]
  },
  {
   "cell_type": "code",
   "execution_count": 47,
   "id": "4d5e05c1",
   "metadata": {},
   "outputs": [],
   "source": [
    "# Import necessary modules\n",
    "from sklearn.neighbors import KNeighborsClassifier\n",
    "from sklearn.model_selection import train_test_split"
   ]
  },
  {
   "cell_type": "code",
   "execution_count": 48,
   "id": "ec621724",
   "metadata": {},
   "outputs": [],
   "source": [
    "#Separate Target Variable and Predictor Variables\n",
    "X = df2[['Weight','Height']]\n",
    "Y = df2['Gender']"
   ]
  },
  {
   "cell_type": "code",
   "execution_count": 49,
   "id": "bee72910",
   "metadata": {},
   "outputs": [],
   "source": [
    "# Split into training and test set\n",
    "Xtrain, Xtest, Ytrain, Ytest = train_test_split(X,Y, test_size = 0.3)"
   ]
  },
  {
   "cell_type": "code",
   "execution_count": 50,
   "id": "af15875c",
   "metadata": {},
   "outputs": [],
   "source": [
    "#Creating a instance of label KNeighborsClassifier\n",
    "knn = KNeighborsClassifier(n_neighbors=5)"
   ]
  },
  {
   "cell_type": "code",
   "execution_count": 51,
   "id": "13b4ee28",
   "metadata": {},
   "outputs": [
    {
     "data": {
      "text/plain": [
       "KNeighborsClassifier()"
      ]
     },
     "execution_count": 51,
     "metadata": {},
     "output_type": "execute_result"
    }
   ],
   "source": [
    "knn"
   ]
  },
  {
   "cell_type": "code",
   "execution_count": 58,
   "id": "aa6e43f8",
   "metadata": {},
   "outputs": [
    {
     "data": {
      "text/html": [
       "<div>\n",
       "<style scoped>\n",
       "    .dataframe tbody tr th:only-of-type {\n",
       "        vertical-align: middle;\n",
       "    }\n",
       "\n",
       "    .dataframe tbody tr th {\n",
       "        vertical-align: top;\n",
       "    }\n",
       "\n",
       "    .dataframe thead th {\n",
       "        text-align: right;\n",
       "    }\n",
       "</style>\n",
       "<table border=\"1\" class=\"dataframe\">\n",
       "  <thead>\n",
       "    <tr style=\"text-align: right;\">\n",
       "      <th></th>\n",
       "      <th>Height</th>\n",
       "      <th>Weight</th>\n",
       "      <th>Gender</th>\n",
       "    </tr>\n",
       "  </thead>\n",
       "  <tbody>\n",
       "    <tr>\n",
       "      <th>0</th>\n",
       "      <td>73.847017</td>\n",
       "      <td>241.893563</td>\n",
       "      <td>1</td>\n",
       "    </tr>\n",
       "    <tr>\n",
       "      <th>1</th>\n",
       "      <td>68.781904</td>\n",
       "      <td>162.310473</td>\n",
       "      <td>1</td>\n",
       "    </tr>\n",
       "    <tr>\n",
       "      <th>2</th>\n",
       "      <td>74.110105</td>\n",
       "      <td>212.740856</td>\n",
       "      <td>1</td>\n",
       "    </tr>\n",
       "    <tr>\n",
       "      <th>3</th>\n",
       "      <td>71.730978</td>\n",
       "      <td>220.042470</td>\n",
       "      <td>1</td>\n",
       "    </tr>\n",
       "    <tr>\n",
       "      <th>4</th>\n",
       "      <td>69.881796</td>\n",
       "      <td>206.349801</td>\n",
       "      <td>1</td>\n",
       "    </tr>\n",
       "  </tbody>\n",
       "</table>\n",
       "</div>"
      ],
      "text/plain": [
       "      Height      Weight  Gender\n",
       "0  73.847017  241.893563       1\n",
       "1  68.781904  162.310473       1\n",
       "2  74.110105  212.740856       1\n",
       "3  71.730978  220.042470       1\n",
       "4  69.881796  206.349801       1"
      ]
     },
     "execution_count": 58,
     "metadata": {},
     "output_type": "execute_result"
    }
   ],
   "source": [
    "# printing Dataframe\n",
    "df2.head()"
   ]
  },
  {
   "cell_type": "code",
   "execution_count": 59,
   "id": "c9ec063d",
   "metadata": {},
   "outputs": [],
   "source": [
    "#Creating a instance of KNeighborsClassifier\n",
    "knn = KNeighborsClassifier(n_neighbors=7)"
   ]
  },
  {
   "cell_type": "code",
   "execution_count": 60,
   "id": "e1a853cb",
   "metadata": {},
   "outputs": [
    {
     "data": {
      "text/plain": [
       "KNeighborsClassifier(n_neighbors=7)"
      ]
     },
     "execution_count": 60,
     "metadata": {},
     "output_type": "execute_result"
    }
   ],
   "source": [
    "#Using .fit function to fit data\n",
    "knn.fit(Xtrain, Ytrain)"
   ]
  },
  {
   "cell_type": "code",
   "execution_count": 61,
   "id": "b1cf014d",
   "metadata": {},
   "outputs": [
    {
     "data": {
      "text/plain": [
       "array([1, 0, 0, ..., 1, 0, 0])"
      ]
     },
     "execution_count": 61,
     "metadata": {},
     "output_type": "execute_result"
    }
   ],
   "source": [
    "# Predict on dataset which model has not seen before\n",
    "knn.predict(Xtest)"
   ]
  },
  {
   "cell_type": "code",
   "execution_count": 62,
   "id": "a9b2c1b7",
   "metadata": {},
   "outputs": [],
   "source": [
    "# Calculate the accuracy of the model\n",
    "score = knn.score(Xtrain,Ytrain)"
   ]
  },
  {
   "cell_type": "code",
   "execution_count": 63,
   "id": "0334e15f",
   "metadata": {},
   "outputs": [
    {
     "data": {
      "text/plain": [
       "0.924181696726787"
      ]
     },
     "execution_count": 63,
     "metadata": {},
     "output_type": "execute_result"
    }
   ],
   "source": [
    "#print accuaracy of the model \n",
    "score "
   ]
  },
  {
   "cell_type": "code",
   "execution_count": 64,
   "id": "7441878c",
   "metadata": {},
   "outputs": [],
   "source": [
    "#import DecisionTreeClassifier from sklearn\n",
    "#import #import DecisionTreeClassifier from sklearn from sklearn metrics\n",
    "from sklearn.tree import DecisionTreeClassifier\n",
    "from sklearn.metrics import classification_report , accuracy_score, confusion_matrix, plot_roc_curve"
   ]
  },
  {
   "cell_type": "code",
   "execution_count": 65,
   "id": "7c86effa",
   "metadata": {},
   "outputs": [],
   "source": [
    "#Creating a instance of DecisionTreeClassifier\n",
    "clf = DecisionTreeClassifier()"
   ]
  },
  {
   "cell_type": "code",
   "execution_count": 66,
   "id": "a35d397a",
   "metadata": {},
   "outputs": [
    {
     "data": {
      "text/plain": [
       "DecisionTreeClassifier()"
      ]
     },
     "execution_count": 66,
     "metadata": {},
     "output_type": "execute_result"
    }
   ],
   "source": [
    "clf"
   ]
  },
  {
   "cell_type": "code",
   "execution_count": 67,
   "id": "380146fc",
   "metadata": {},
   "outputs": [
    {
     "data": {
      "text/plain": [
       "DecisionTreeClassifier()"
      ]
     },
     "execution_count": 67,
     "metadata": {},
     "output_type": "execute_result"
    }
   ],
   "source": [
    "#Using .fit function to fit data\n",
    "clf.fit(Xtrain, Ytrain)"
   ]
  },
  {
   "cell_type": "code",
   "execution_count": 68,
   "id": "7270e647",
   "metadata": {},
   "outputs": [],
   "source": [
    "#Creating a instance of Prediction.\n",
    "pred = clf.predict(Xtest)"
   ]
  },
  {
   "cell_type": "code",
   "execution_count": 69,
   "id": "6adaf7b6",
   "metadata": {},
   "outputs": [
    {
     "data": {
      "text/plain": [
       "array([1, 0, 0, ..., 1, 0, 0])"
      ]
     },
     "execution_count": 69,
     "metadata": {},
     "output_type": "execute_result"
    }
   ],
   "source": [
    "# corr. result of ytest / y\n",
    "pred"
   ]
  },
  {
   "cell_type": "code",
   "execution_count": 70,
   "id": "4c3fc122",
   "metadata": {},
   "outputs": [
    {
     "data": {
      "text/plain": [
       "array([209.9001307, 203.2208674, 205.3857099, ..., 141.0569889,\n",
       "       150.7244488, 196.5004927])"
      ]
     },
     "execution_count": 70,
     "metadata": {},
     "output_type": "execute_result"
    }
   ],
   "source": [
    "np.array(ytest)"
   ]
  },
  {
   "cell_type": "code",
   "execution_count": 71,
   "id": "5306460b",
   "metadata": {},
   "outputs": [
    {
     "name": "stdout",
     "output_type": "stream",
     "text": [
      "              precision    recall  f1-score   support\n",
      "\n",
      "           0       0.85      0.86      0.86      1093\n",
      "           1       0.90      0.89      0.89      1474\n",
      "\n",
      "    accuracy                           0.88      2567\n",
      "   macro avg       0.87      0.88      0.88      2567\n",
      "weighted avg       0.88      0.88      0.88      2567\n",
      "\n"
     ]
    }
   ],
   "source": [
    "#Show the clasification report\n",
    "print(classification_report(Ytest, pred))"
   ]
  },
  {
   "cell_type": "code",
   "execution_count": 72,
   "id": "e8f67330",
   "metadata": {},
   "outputs": [
    {
     "data": {
      "text/plain": [
       "array([[ 939,  154],\n",
       "       [ 160, 1314]], dtype=int64)"
      ]
     },
     "execution_count": 72,
     "metadata": {},
     "output_type": "execute_result"
    }
   ],
   "source": [
    "confusion_matrix(Ytest, pred)"
   ]
  },
  {
   "cell_type": "code",
   "execution_count": 73,
   "id": "98dc59da",
   "metadata": {},
   "outputs": [
    {
     "data": {
      "text/plain": [
       "0.8776782236073237"
      ]
     },
     "execution_count": 73,
     "metadata": {},
     "output_type": "execute_result"
    }
   ],
   "source": [
    "accuracy_score(Ytest, pred)"
   ]
  },
  {
   "cell_type": "code",
   "execution_count": 74,
   "id": "8db70355",
   "metadata": {},
   "outputs": [
    {
     "data": {
      "text/plain": [
       "0.8675496688741722"
      ]
     },
     "execution_count": 74,
     "metadata": {},
     "output_type": "execute_result"
    }
   ],
   "source": [
    "(901+1326)/(901+154+186+1326)"
   ]
  },
  {
   "cell_type": "code",
   "execution_count": 75,
   "id": "1a72125e",
   "metadata": {},
   "outputs": [],
   "source": [
    "tp, fn, fp, tn = confusion_matrix(Ytest, pred).reshape(-1) "
   ]
  },
  {
   "cell_type": "markdown",
   "id": "7e02f2ec",
   "metadata": {},
   "source": [
    "# Accuracy"
   ]
  },
  {
   "cell_type": "code",
   "execution_count": 76,
   "id": "5ec061e9",
   "metadata": {},
   "outputs": [],
   "source": [
    "#Accuricy calculation\n",
    "acc = (tp+tn)/(tp+tn+fp+fn)"
   ]
  },
  {
   "cell_type": "code",
   "execution_count": 77,
   "id": "b989396a",
   "metadata": {},
   "outputs": [
    {
     "data": {
      "text/plain": [
       "0.8776782236073237"
      ]
     },
     "execution_count": 77,
     "metadata": {},
     "output_type": "execute_result"
    }
   ],
   "source": [
    "#print accouracy\n",
    "acc"
   ]
  },
  {
   "cell_type": "markdown",
   "id": "ffe7fd8f",
   "metadata": {},
   "source": [
    "# Area Under the Curve (AUC) of “Receiver Characteristic Operator (ROC)"
   ]
  },
  {
   "cell_type": "code",
   "execution_count": 78,
   "id": "67af84bb",
   "metadata": {},
   "outputs": [
    {
     "name": "stderr",
     "output_type": "stream",
     "text": [
      "C:\\Users\\user\\anaconda3\\lib\\site-packages\\sklearn\\utils\\deprecation.py:87: FutureWarning: Function plot_roc_curve is deprecated; Function :func:`plot_roc_curve` is deprecated in 1.0 and will be removed in 1.2. Use one of the class methods: :meth:`sklearn.metric.RocCurveDisplay.from_predictions` or :meth:`sklearn.metric.RocCurveDisplay.from_estimator`.\n",
      "  warnings.warn(msg, category=FutureWarning)\n"
     ]
    },
    {
     "data": {
      "text/plain": [
       "[<matplotlib.lines.Line2D at 0x14c326d93d0>]"
      ]
     },
     "execution_count": 78,
     "metadata": {},
     "output_type": "execute_result"
    },
    {
     "data": {
      "image/png": "[encoded data removed]",
      "text/plain": [
       "<Figure size 432x288 with 1 Axes>"
      ]
     },
     "metadata": {
      "needs_background": "light"
     },
     "output_type": "display_data"
    }
   ],
   "source": [
    "#plot AUC-ROC Curve\n",
    "plot_roc_curve(clf,Xtest,Ytest,color='orange')\n",
    "plt.plot([0,1], [0,1])"
   ]
  }
 ],
 "metadata": {
  "kernelspec": {
   "display_name": "Python 3 (ipykernel)",
   "language": "python",
   "name": "python3"
  },
  "language_info": {
   "codemirror_mode": {
    "name": "ipython",
    "version": 3
   },
   "file_extension": ".py",
   "mimetype": "text/x-python",
   "name": "python",
   "nbconvert_exporter": "python",
   "pygments_lexer": "ipython3",
   "version": "3.9.12"
  }
 },
 "nbformat": 4,
 "nbformat_minor": 5
}
